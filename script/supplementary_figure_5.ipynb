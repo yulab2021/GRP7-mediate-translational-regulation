{
 "cells": [
  {
   "cell_type": "code",
   "execution_count": 1,
   "metadata": {
    "vscode": {
     "languageId": "r"
    }
   },
   "outputs": [
    {
     "data": {
      "text/html": [
       "<style>\n",
       ".list-inline {list-style: none; margin:0; padding: 0}\n",
       ".list-inline>li {display: inline-block}\n",
       ".list-inline>li:not(:last-child)::after {content: \"\\00b7\"; padding: 0 .5ex}\n",
       "</style>\n",
       "<ol class=list-inline><li>'ABA_Col_1'</li><li>'ABA_Col_2'</li><li>'ABA_Col_3'</li><li>'ABA_g7g8_1'</li><li>'ABA_g7g8_2'</li><li>'ABA_g7g8_3'</li><li>'Mock_Col_1'</li><li>'Mock_Col_2'</li><li>'Mock_Col_3'</li><li>'Mock_g7g8_1'</li><li>'Mock_g7g8_2'</li><li>'Mock_g7g8_3'</li></ol>\n"
      ],
      "text/latex": [
       "\\begin{enumerate*}\n",
       "\\item 'ABA\\_Col\\_1'\n",
       "\\item 'ABA\\_Col\\_2'\n",
       "\\item 'ABA\\_Col\\_3'\n",
       "\\item 'ABA\\_g7g8\\_1'\n",
       "\\item 'ABA\\_g7g8\\_2'\n",
       "\\item 'ABA\\_g7g8\\_3'\n",
       "\\item 'Mock\\_Col\\_1'\n",
       "\\item 'Mock\\_Col\\_2'\n",
       "\\item 'Mock\\_Col\\_3'\n",
       "\\item 'Mock\\_g7g8\\_1'\n",
       "\\item 'Mock\\_g7g8\\_2'\n",
       "\\item 'Mock\\_g7g8\\_3'\n",
       "\\end{enumerate*}\n"
      ],
      "text/markdown": [
       "1. 'ABA_Col_1'\n",
       "2. 'ABA_Col_2'\n",
       "3. 'ABA_Col_3'\n",
       "4. 'ABA_g7g8_1'\n",
       "5. 'ABA_g7g8_2'\n",
       "6. 'ABA_g7g8_3'\n",
       "7. 'Mock_Col_1'\n",
       "8. 'Mock_Col_2'\n",
       "9. 'Mock_Col_3'\n",
       "10. 'Mock_g7g8_1'\n",
       "11. 'Mock_g7g8_2'\n",
       "12. 'Mock_g7g8_3'\n",
       "\n",
       "\n"
      ],
      "text/plain": [
       " [1] \"ABA_Col_1\"   \"ABA_Col_2\"   \"ABA_Col_3\"   \"ABA_g7g8_1\"  \"ABA_g7g8_2\" \n",
       " [6] \"ABA_g7g8_3\"  \"Mock_Col_1\"  \"Mock_Col_2\"  \"Mock_Col_3\"  \"Mock_g7g8_1\"\n",
       "[11] \"Mock_g7g8_2\" \"Mock_g7g8_3\""
      ]
     },
     "metadata": {},
     "output_type": "display_data"
    },
    {
     "data": {
      "text/html": [
       "<style>\n",
       ".list-inline {list-style: none; margin:0; padding: 0}\n",
       ".list-inline>li {display: inline-block}\n",
       ".list-inline>li:not(:last-child)::after {content: \"\\00b7\"; padding: 0 .5ex}\n",
       "</style>\n",
       "<ol class=list-inline><li>'ABA_Col_1'</li><li>'ABA_Col_2'</li><li>'ABA_Col_3'</li><li>'ABA_g7g8_1'</li><li>'ABA_g7g8_2'</li><li>'ABA_g7g8_3'</li><li>'Mock_Col_1'</li><li>'Mock_Col_2'</li><li>'Mock_Col_3'</li><li>'Mock_g7g8_1'</li><li>'Mock_g7g8_2'</li><li>'Mock_g7g8_3'</li></ol>\n"
      ],
      "text/latex": [
       "\\begin{enumerate*}\n",
       "\\item 'ABA\\_Col\\_1'\n",
       "\\item 'ABA\\_Col\\_2'\n",
       "\\item 'ABA\\_Col\\_3'\n",
       "\\item 'ABA\\_g7g8\\_1'\n",
       "\\item 'ABA\\_g7g8\\_2'\n",
       "\\item 'ABA\\_g7g8\\_3'\n",
       "\\item 'Mock\\_Col\\_1'\n",
       "\\item 'Mock\\_Col\\_2'\n",
       "\\item 'Mock\\_Col\\_3'\n",
       "\\item 'Mock\\_g7g8\\_1'\n",
       "\\item 'Mock\\_g7g8\\_2'\n",
       "\\item 'Mock\\_g7g8\\_3'\n",
       "\\end{enumerate*}\n"
      ],
      "text/markdown": [
       "1. 'ABA_Col_1'\n",
       "2. 'ABA_Col_2'\n",
       "3. 'ABA_Col_3'\n",
       "4. 'ABA_g7g8_1'\n",
       "5. 'ABA_g7g8_2'\n",
       "6. 'ABA_g7g8_3'\n",
       "7. 'Mock_Col_1'\n",
       "8. 'Mock_Col_2'\n",
       "9. 'Mock_Col_3'\n",
       "10. 'Mock_g7g8_1'\n",
       "11. 'Mock_g7g8_2'\n",
       "12. 'Mock_g7g8_3'\n",
       "\n",
       "\n"
      ],
      "text/plain": [
       " [1] \"ABA_Col_1\"   \"ABA_Col_2\"   \"ABA_Col_3\"   \"ABA_g7g8_1\"  \"ABA_g7g8_2\" \n",
       " [6] \"ABA_g7g8_3\"  \"Mock_Col_1\"  \"Mock_Col_2\"  \"Mock_Col_3\"  \"Mock_g7g8_1\"\n",
       "[11] \"Mock_g7g8_2\" \"Mock_g7g8_3\""
      ]
     },
     "metadata": {},
     "output_type": "display_data"
    },
    {
     "data": {
      "text/html": [
       "<style>\n",
       ".list-inline {list-style: none; margin:0; padding: 0}\n",
       ".list-inline>li {display: inline-block}\n",
       ".list-inline>li:not(:last-child)::after {content: \"\\00b7\"; padding: 0 .5ex}\n",
       "</style>\n",
       "<ol class=list-inline><li>'ABA_Col_1'</li><li>'ABA_Col_2'</li><li>'ABA_Col_3'</li><li>'ABA_g7g8_1'</li><li>'ABA_g7g8_2'</li><li>'ABA_g7g8_3'</li><li>'Mock_Col_1'</li><li>'Mock_Col_2'</li><li>'Mock_Col_3'</li><li>'Mock_g7g8_1'</li><li>'Mock_g7g8_2'</li><li>'Mock_g7g8_3'</li></ol>\n"
      ],
      "text/latex": [
       "\\begin{enumerate*}\n",
       "\\item 'ABA\\_Col\\_1'\n",
       "\\item 'ABA\\_Col\\_2'\n",
       "\\item 'ABA\\_Col\\_3'\n",
       "\\item 'ABA\\_g7g8\\_1'\n",
       "\\item 'ABA\\_g7g8\\_2'\n",
       "\\item 'ABA\\_g7g8\\_3'\n",
       "\\item 'Mock\\_Col\\_1'\n",
       "\\item 'Mock\\_Col\\_2'\n",
       "\\item 'Mock\\_Col\\_3'\n",
       "\\item 'Mock\\_g7g8\\_1'\n",
       "\\item 'Mock\\_g7g8\\_2'\n",
       "\\item 'Mock\\_g7g8\\_3'\n",
       "\\end{enumerate*}\n"
      ],
      "text/markdown": [
       "1. 'ABA_Col_1'\n",
       "2. 'ABA_Col_2'\n",
       "3. 'ABA_Col_3'\n",
       "4. 'ABA_g7g8_1'\n",
       "5. 'ABA_g7g8_2'\n",
       "6. 'ABA_g7g8_3'\n",
       "7. 'Mock_Col_1'\n",
       "8. 'Mock_Col_2'\n",
       "9. 'Mock_Col_3'\n",
       "10. 'Mock_g7g8_1'\n",
       "11. 'Mock_g7g8_2'\n",
       "12. 'Mock_g7g8_3'\n",
       "\n",
       "\n"
      ],
      "text/plain": [
       " [1] \"ABA_Col_1\"   \"ABA_Col_2\"   \"ABA_Col_3\"   \"ABA_g7g8_1\"  \"ABA_g7g8_2\" \n",
       " [6] \"ABA_g7g8_3\"  \"Mock_Col_1\"  \"Mock_Col_2\"  \"Mock_Col_3\"  \"Mock_g7g8_1\"\n",
       "[11] \"Mock_g7g8_2\" \"Mock_g7g8_3\""
      ]
     },
     "metadata": {},
     "output_type": "display_data"
    },
    {
     "name": "stderr",
     "output_type": "stream",
     "text": [
      "Warning message:\n",
      "\"\u001b[1m\u001b[22mUsing `size` aesthetic for lines was deprecated in ggplot2 3.4.0.\n",
      "\u001b[36mℹ\u001b[39m Please use `linewidth` instead.\"\n"
     ]
    },
    {
     "data": {
      "image/png": "[encoded data removed]",
      "text/plain": [
       "plot without title"
      ]
     },
     "metadata": {
      "image/png": {
       "height": 420,
       "width": 420
      }
     },
     "output_type": "display_data"
    }
   ],
   "source": [
    "# S_fig5\n",
    "\n",
    "library(ggplot2)\n",
    "library(reshape2)\n",
    "library(patchwork)\n",
    "\n",
    "\n",
    "UTR3 <- read.csv(\"data/Riboseq_3UTR.featurecount1.txt\",header = T,sep = \"\\t\",row.names = 1)\n",
    "UTR5 <- read.csv(\"data/Riboseq_5UTR.featurecount1.txt\", header = T,sep = \"\\t\",row.names = 1)\n",
    "CDS <- read.csv(\"data/Riboseq_CDS.featurecount1.txt\", header = T,sep = \"\\t\",row.names = 1)\n",
    "\n",
    "\n",
    "colnames(UTR3)\n",
    "colnames(UTR5)\n",
    "colnames(CDS)\n",
    "ribo <- rbind(colSums(UTR5),colSums(CDS),colSums(UTR3))\n",
    "ribo <- rbind(ribo,colSums(ribo))\n",
    "rownames(ribo) <- c(\"5'UTR\",\"CDS\",\"3'UTR\",\"sum\")\n",
    "\n",
    "ribo1 <- t(apply(ribo, 1, function(x) x / ribo[4, ]))\n",
    "\n",
    "ribo1 <- melt(ribo1[1:3,])\n",
    "ribo1$sample <- \"Ribo\"\n",
    "\n",
    "\n",
    "\n",
    "\n",
    "UTR3 <- read.csv(\"data/RNAseq_3UTR.featurecount1.txt\",header = T,sep = \"\\t\",row.names = 1)\n",
    "UTR5 <- read.csv(\"data/RNAseq_5UTR.featurecount1.txt\", header = T,sep = \"\\t\",row.names = 1)\n",
    "CDS <- read.csv(\"data/RNAseq_CDS.featurecount1.txt\", header = T,sep = \"\\t\",row.names = 1)\n",
    "\n",
    "rna <- rbind(colSums(UTR5),colSums(CDS),colSums(UTR3))\n",
    "\n",
    "rna <- rbind(rna,colSums(rna))\n",
    "rownames(rna) <- c(\"5'UTR\",\"CDS\",\"3'UTR\",\"sum\")\n",
    "\n",
    "rna1 <- t(apply(rna, 1, function(x) x / rna[4, ]))\n",
    "\n",
    "rna1 <- melt(rna1[1:3,])\n",
    "rna1$sample <- \"RNA\"\n",
    "\n",
    "\n",
    "\n",
    "\n",
    "data <- rbind(rna1, ribo1)\n",
    "#data <- rna1\n",
    "data$Var2 <- as.character(data$Var2)\n",
    "\n",
    "data[which(data$Var2==\"Mock_Col_1\"),\"Var2\"] <- \"Mock.Col\"\n",
    "data[which(data$Var2==\"Mock_Col_2\"),\"Var2\"] <- \"Mock.Col\"\n",
    "data[which(data$Var2==\"Mock_Col_3\"),\"Var2\"] <- \"Mock.Col\"\n",
    "data[which(data$Var2==\"Mock_g7g8_1\"),\"Var2\"] <- \"Mock.g7g8\"\n",
    "data[which(data$Var2==\"Mock_g7g8_2\"),\"Var2\"] <- \"Mock.g7g8\"\n",
    "data[which(data$Var2==\"Mock_g7g8_3\"),\"Var2\"] <- \"Mock.g7g8\"\n",
    "data[which(data$Var2==\"ABA_Col_1\"),\"Var2\"] <- \"ABA.Col\"\n",
    "data[which(data$Var2==\"ABA_Col_2\"),\"Var2\"] <- \"ABA.Col\"\n",
    "data[which(data$Var2==\"ABA_Col_3\"),\"Var2\"] <- \"ABA.Col\"\n",
    "data[which(data$Var2==\"ABA_g7g8_1\"),\"Var2\"] <- \"ABA.g7g8\"\n",
    "data[which(data$Var2==\"ABA_g7g8_2\"),\"Var2\"] <- \"ABA.g7g8\"\n",
    "data[which(data$Var2==\"ABA_g7g8_3\"),\"Var2\"] <- \"ABA.g7g8\"\n",
    "\n",
    "mean <- aggregate(data$value, by=list(data$sample, data$Var1, data$Var2), FUN=mean)\n",
    "sd <- aggregate(data$value, by=list(data$sample, data$Var1, data$Var2), FUN=sd)\n",
    "mean$sd <- sd$x\n",
    "\n",
    "mean$Group.3<-factor(mean$Group.3,\n",
    "                     levels = c(\"Mock.Col\",\"Mock.g7g8\",\"ABA.Col\", \"ABA.g7g8\"),\n",
    "                     labels = c(\"Mock Col-0\",\"Mock grp7grp8CR-A\",\"ABA Col-0\", \"ABA grp7grp8CR-A\"))\n",
    "mean$Group.2<-factor(mean$Group.2,\n",
    "                     levels = c(\"5'UTR\", \"CDS\",\"3'UTR\"),\n",
    "                     labels = c(\"5'UTR\", \"CDS\",\"3'UTR\"))\n",
    "mean$Group.1<-factor(mean$Group.1,\n",
    "                     levels = c(\"RNA\", \"Ribo\"))\n",
    "# rna <- subset(mean, Group.1==\"RNA\")\n",
    "# ribo <- subset(mean, Group.1==\"Ribo\")\n",
    "\n",
    "\n",
    "\n",
    "#pdf(\"reads_region_distribution_barplot_bar.pdf\",width = 6,height = 4)\n",
    "ggplot(mean, aes(x=Group.2, y=x, fill=Group.3)) +\n",
    "  geom_bar(stat=\"identity\", position=position_dodge(),color=\"black\", width=.8, size=0.2) +\n",
    "  geom_errorbar(aes(ymin = x - sd, ymax = x + sd), \n",
    "                width = 0.2, \n",
    "                position = position_dodge(0.8)) +\n",
    "  scale_fill_manual(values = c(\"#AECC8B\",\"#81BBB3\",\"#E8A6C6\",\"#BDA6CB\")) +\n",
    "  ylab(\"reads(%)\")+\n",
    "  xlab(\"\")+\n",
    "  #ggtitle(\"RNAseq\")+\n",
    "  #scale_x_discrete(limits = c(\"3'UTR_Exons\", \"5'UTR_Exons\",\"CDS_Exons\"),labels = c(\"3'UTR\", \"5'UTR\",\"CDS\"))+\n",
    "  theme_bw()+\n",
    "  #scale_legend_discrete(limits = c(\"ABA.Col\", \"ABA.g7g8\",\"Mock.Col\",\"Mock.g7g8\"),labels = c(\"ABA Col-0\", \"ABA grp7grp8CR-A\",\"Mock Col-0\",\"Mock grp7grp8CR-A\"))+\n",
    "  theme(panel.grid=element_blank(),\n",
    "        axis.line = element_line(colour = \"black\"),\n",
    "        # panel.border = element_blank(),\n",
    "        legend.title = element_blank(),\n",
    "        legend.text = element_text(size = 10),\n",
    "        legend.position = \"top\",\n",
    "        legend.key.size = unit(0.3,\"cm\"),\n",
    "        # axis.line.x=element_line(linewidth=1),\n",
    "        # axis.line.y=element_line(linewidth=1),\n",
    "        axis.title.y =element_text(size=14),\n",
    "        axis.text.x =element_text(size=14,color=\"black\"),\n",
    "        axis.text.y =element_text(size=10),\n",
    "        strip.text.x = element_text(size = 16),\n",
    "        #axis.title.y=element_text(size=14),\n",
    "        plot.title = element_text(hjust = 0.5))+\n",
    "  facet_grid(~Group.1)\n",
    "\n",
    "#dev.off()"
   ]
  }
 ],
 "metadata": {
  "kernelspec": {
   "display_name": "R",
   "language": "R",
   "name": "ir"
  },
  "language_info": {
   "codemirror_mode": "r",
   "file_extension": ".r",
   "mimetype": "text/x-r-source",
   "name": "R",
   "pygments_lexer": "r",
   "version": "4.3.3"
  }
 },
 "nbformat": 4,
 "nbformat_minor": 2
}
