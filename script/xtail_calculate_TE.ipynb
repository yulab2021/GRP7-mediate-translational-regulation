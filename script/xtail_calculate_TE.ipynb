{
 "cells": [
  {
   "cell_type": "code",
   "execution_count": null,
   "metadata": {
    "vscode": {
     "languageId": "r"
    }
   },
   "outputs": [],
   "source": [
    "# RNAseq and Riboseq rawcount to calculate DTE\n",
    "library(xtail)\n",
    "\n",
    "RPF <- read.table('data\\Riboseq_CDS.featurecount1.txt',row.names=1,header = T)\n",
    "mrna <- read.table('data\\RNAseq_CDS.featurecount1.txt',row.names=1,header = T)\n",
    "\n",
    "ID <- intersect(rownames(RPF),rownames(mrna))\n",
    "RPF <- RPF[ID,]\n",
    "mrna <- mrna[ID,]\n",
    "#dim(RPF)\n",
    "#dim(mrna)\n",
    "mrna[mrna==0] <- 1\n",
    "#head(RPF)\n",
    "#head(mrna)"
   ]
  },
  {
   "cell_type": "code",
   "execution_count": null,
   "metadata": {
    "vscode": {
     "languageId": "r"
    }
   },
   "outputs": [],
   "source": [
    "# ABA_Col vs Mock_Col\n",
    "\n",
    "RPF_1 = RPF[,c(7,8,9,1,2,3)]\n",
    "mrna_1 = mrna[,c(7,8,9,1,2,3)]\n",
    "head(RPF_1)\n",
    "head(mrna_1)\n",
    "\n",
    "condition <- c(\"control\",\"control\",\"control\",\"treat\",\"treat\",\"treat\")\n",
    "results <- xtail(mrna_1,RPF_1,condition,minMeanCount=1,bins=10000)\n",
    "results_tab <- resultsTable(results,sort.by=\"pvalue.adjust\",log2FCs=TRUE, log2Rs=TRUE)\n",
    "head(results_tab)\n",
    "\n",
    "\n",
    "pdf(\"data\\xtail_ABA_Col_vs_Mock_Col.pdf\",height=4,width=6)\n",
    "plotFCs(results)\n",
    "plotRs(results)\n",
    "volcanoPlot(results)\n",
    "dev.off()\n",
    "\n",
    "write.table(results_tab,\"data\\xtail_ABA_Col_vs_Mock_Col.txt\",quote=F,sep=\"\\t\")"
   ]
  },
  {
   "cell_type": "code",
   "execution_count": null,
   "metadata": {
    "vscode": {
     "languageId": "r"
    }
   },
   "outputs": [],
   "source": [
    "# ABA_g7g8 vs Mock_g7g8\n",
    "\n",
    "RPF_1 = RPF[,c(10:12,4:6)]\n",
    "mrna_1 = mrna[,c(10:12,4:6)]\n",
    "head(RPF_1)\n",
    "head(mrna_1)\n",
    "\n",
    "condition <- c(\"control\",\"control\",\"control\",\"treat\",\"treat\",\"treat\")\n",
    "results <- xtail(mrna_1,RPF_1,condition,minMeanCount=1,bins=10000)\n",
    "results_tab <- resultsTable(results,sort.by=\"pvalue.adjust\",log2FCs=TRUE, log2Rs=TRUE)\n",
    "head(results_tab)\n",
    "\n",
    "\n",
    "pdf(\"data\\xtail_ABA_g7g8_vs_Mock_g7g8.pdf\",height=4,width=6)\n",
    "plotFCs(results)\n",
    "plotRs(results)\n",
    "volcanoPlot(results)\n",
    "dev.off()\n",
    "\n",
    "write.table(results_tab,\"data\\xtail_ABA_g7g8_vs_Mock_g7g8.txt\",quote=F,sep=\"\\t\")"
   ]
  },
  {
   "cell_type": "code",
   "execution_count": null,
   "metadata": {
    "vscode": {
     "languageId": "r"
    }
   },
   "outputs": [],
   "source": [
    "# Mock_g7g8 vs Mock_Col\n",
    "\n",
    "RPF_1 = RPF[,c(7:12)]\n",
    "mrna_1 = mrna[,c(7:12)]\n",
    "head(RPF_1)\n",
    "head(mrna_1)\n",
    "\n",
    "condition <- c(\"control\",\"control\",\"control\",\"treat\",\"treat\",\"treat\")\n",
    "results <- xtail(mrna_1,RPF_1,condition,minMeanCount=1,bins=10000)\n",
    "results_tab <- resultsTable(results,sort.by=\"pvalue.adjust\",log2FCs=TRUE, log2Rs=TRUE)\n",
    "head(results_tab)\n",
    "\n",
    "\n",
    "pdf(\"data\\xtail_Mock_g7g8_vs_Mock_Col.pdf\",height=4,width=6)\n",
    "plotFCs(results)\n",
    "plotRs(results)\n",
    "volcanoPlot(results)\n",
    "dev.off()\n",
    "\n",
    "write.table(results_tab,\"data\\xtail_Mock_g7g8_vs_Mock_Col.txt\",quote=F,sep=\"\\t\")"
   ]
  },
  {
   "cell_type": "code",
   "execution_count": null,
   "metadata": {
    "vscode": {
     "languageId": "r"
    }
   },
   "outputs": [],
   "source": [
    "# ABA_g7g8 vs ABA_Col\n",
    "\n",
    "RPF_1 = RPF[,c(1:6)]\n",
    "mrna_1 = mrna[,c(1:6)]\n",
    "head(RPF_1)\n",
    "head(mrna_1)\n",
    "\n",
    "condition <- c(\"control\",\"control\",\"control\",\"treat\",\"treat\",\"treat\")\n",
    "results <- xtail(mrna_1,RPF_1,condition,minMeanCount=1,bins=10000)\n",
    "results_tab <- resultsTable(results,sort.by=\"pvalue.adjust\",log2FCs=TRUE, log2Rs=TRUE)\n",
    "head(results_tab)\n",
    "\n",
    "pdf(\"data\\xtail_ABA_g7g8_vs_ABA_Col.pdf\",height=4,width=6)\n",
    "plotFCs(results)\n",
    "plotRs(results)\n",
    "volcanoPlot(results)\n",
    "dev.off()\n",
    "\n",
    "write.table(results_tab,\"data\\xtail_ABA_g7g8_vs_ABA_Col.txt\",quote=F,sep=\"\\t\")"
   ]
  }
 ],
 "metadata": {
  "kernelspec": {
   "display_name": "R",
   "language": "R",
   "name": "ir"
  },
  "language_info": {
   "codemirror_mode": "r",
   "file_extension": ".r",
   "mimetype": "text/x-r-source",
   "name": "R",
   "pygments_lexer": "r",
   "version": "4.3.3"
  }
 },
 "nbformat": 4,
 "nbformat_minor": 2
}
