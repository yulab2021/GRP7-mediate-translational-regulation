{
 "cells": [
  {
   "cell_type": "code",
   "execution_count": 22,
   "metadata": {
    "vscode": {
     "languageId": "r"
    }
   },
   "outputs": [
    {
     "data": {
      "text/html": [
       "14848"
      ],
      "text/latex": [
       "14848"
      ],
      "text/markdown": [
       "14848"
      ],
      "text/plain": [
       "[1] 14848"
      ]
     },
     "metadata": {},
     "output_type": "display_data"
    },
    {
     "data": {
      "text/html": [
       "14848"
      ],
      "text/latex": [
       "14848"
      ],
      "text/markdown": [
       "14848"
      ],
      "text/plain": [
       "[1] 14848"
      ]
     },
     "metadata": {},
     "output_type": "display_data"
    },
    {
     "data": {
      "text/html": [
       "2468"
      ],
      "text/latex": [
       "2468"
      ],
      "text/markdown": [
       "2468"
      ],
      "text/plain": [
       "[1] 2468"
      ]
     },
     "metadata": {},
     "output_type": "display_data"
    },
    {
     "data": {
      "text/html": [
       "3514"
      ],
      "text/latex": [
       "3514"
      ],
      "text/markdown": [
       "3514"
      ],
      "text/plain": [
       "[1] 3514"
      ]
     },
     "metadata": {},
     "output_type": "display_data"
    },
    {
     "data": {
      "image/png": "[encoded data removed]",
      "text/plain": [
       "plot without title"
      ]
     },
     "metadata": {
      "image/png": {
       "height": 420,
       "width": 420
      }
     },
     "output_type": "display_data"
    }
   ],
   "source": [
    "library(ggvenn)\n",
    "\n",
    "mock_clip = read.csv(\"data/CLIP_mock.txt\",header=T,sep=\"\\t\")\n",
    "aba_clip = read.csv(\"data/CLIP_ABA.txt\",header=T,sep=\"\\t\")\n",
    "GRP7_iclip = read.csv(\"data/GRP7_iCLIP.txt\",header=F,sep=\"\\t\")\n",
    "\n",
    "mock_clip = subset(mock_clip, mock_clip$annotation!='Promoter')\n",
    "aba_clip = subset(aba_clip, aba_clip$annotation!='Promoter')\n",
    "\n",
    "#head(mock_clip)\n",
    "#head(aba_clip)\n",
    "#head(GRP7_iclip)\n",
    "\n",
    "# filter sum of abundance rpkm <=1\n",
    "rawdata =read.csv(\"data/fpkm_mean.txt\",header=T,sep=\"\\t\",row.names=1)\n",
    "rawdata$mock_sum = rawdata[,3] + rawdata[,4] + rawdata[,7] + rawdata[,8]\n",
    "rawdata$aba_sum = rawdata[,1] + rawdata[,2] + rawdata[,5] + rawdata[,6]\n",
    "mock_high_abundance = rownames(subset(rawdata,rawdata$mock_sum>=1))\n",
    "aba_high_abundance = rownames(subset(rawdata,rawdata$aba_sum>=1))\n",
    "length(mock_high_abundance)\n",
    "#[1] 14848\n",
    "length(aba_high_abundance)\n",
    "#[1] 14848\n",
    "\n",
    "\n",
    "mock_clip_ID = intersect(mock_clip$Gene.ID,mock_high_abundance)\n",
    "aba_clip_ID = intersect(aba_clip$Gene.ID,aba_high_abundance)\n",
    "\n",
    "length(mock_clip_ID)\n",
    "#[1] 2831\n",
    "length(aba_clip_ID)\n",
    "#[1] 3985\n",
    "\n",
    "data <- list(\n",
    "  \"Mock CLIP\" = mock_clip_ID,\n",
    "  \"ABA CLIP\" = aba_clip_ID,\n",
    "  \"GRP7 iCLIP\" = GRP7_iclip$V1\n",
    ")\n",
    "\n",
    "#pdf(\"Sup_fig7_venn.pdf\", width=4, height=4)\n",
    "ggvenn(data,show_percentage = F,stroke_color = NA,fill_color = c(\"#d7e1f5\",\"#faebd0\",\"#fadfee\"))\n",
    "#dev.off()"
   ]
  }
 ],
 "metadata": {
  "kernelspec": {
   "display_name": "R",
   "language": "R",
   "name": "ir"
  },
  "language_info": {
   "codemirror_mode": "r",
   "file_extension": ".r",
   "mimetype": "text/x-r-source",
   "name": "R",
   "pygments_lexer": "r",
   "version": "4.3.3"
  }
 },
 "nbformat": 4,
 "nbformat_minor": 2
}
