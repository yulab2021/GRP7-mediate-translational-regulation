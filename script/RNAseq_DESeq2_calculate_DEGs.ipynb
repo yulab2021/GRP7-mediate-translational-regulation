{
 "cells": [
  {
   "cell_type": "code",
   "execution_count": null,
   "metadata": {
    "vscode": {
     "languageId": "r"
    }
   },
   "outputs": [],
   "source": [
    "#calculate different expression gene between two group\n",
    "\n",
    "library(DESeq2)\n",
    "library(edgeR)\n",
    "data = read.table(\"data//RNAseq_exon.rawcount.txt\", header=T, row.names=1, com='')\n",
    "head(data)"
   ]
  },
  {
   "cell_type": "code",
   "execution_count": null,
   "metadata": {
    "vscode": {
     "languageId": "r"
    }
   },
   "outputs": [],
   "source": [
    "#ABA_Col vs Mock_Col\n",
    "\n",
    "col_ordering = c(7,8,9,1,2,3)\n",
    "rnaseqMatrix = data[,col_ordering]\n",
    "head(rnaseqMatrix)\n",
    "nrow(rnaseqMatrix)\n",
    "#rnaseqMatrix = round(rnaseqMatrix)\n",
    "rnaseqMatrix = rnaseqMatrix[rowSums(cpm(rnaseqMatrix) > 1) >= 2,] #过滤掉低丰度的基因\n",
    "nrow(rnaseqMatrix)\n",
    "#head(rnaseqMatrix)\n",
    "conditions = data.frame(conditions=factor(c(rep(\"Mock_Col\", 3), rep(\"ABA_Col\", 3))))\n",
    "rownames(conditions) = colnames(rnaseqMatrix)\n",
    "conditions\n",
    "ddsFullCountTable <- DESeqDataSetFromMatrix(\n",
    "    countData = rnaseqMatrix,\n",
    "    colData = conditions,\n",
    "    design = ~ conditions)\n",
    "dds = DESeq(ddsFullCountTable)\n",
    "contrast=c(\"conditions\",\"ABA_Col\",\"Mock_Col\")\n",
    "res = results(dds, contrast)\n",
    "baseMeanA <- rowMeans(counts(dds, normalized=TRUE)[,colData(dds)$conditions == \"ABA_Col\"])\n",
    "baseMeanB <- rowMeans(counts(dds, normalized=TRUE)[,colData(dds)$conditions == \"Mock_Col\"])\n",
    "res = cbind(baseMeanA, baseMeanB, as.data.frame(res))\n",
    "res = cbind(sampleA=\"ABA_Col\", sampleB=\"Mock_Col\", as.data.frame(res))\n",
    "res$padj[is.na(res$padj)]  <- 1\n",
    "res = as.data.frame(res[order(res$pvalue),])\n",
    "head(res)\n",
    "write.table(res, file='data//RNAseq_CDS.featurecount1.txt.ABA_Col_vs_Mock_Col.DESeq2.DE_results.txt', sep='\t', quote=FALSE)"
   ]
  },
  {
   "cell_type": "code",
   "execution_count": null,
   "metadata": {
    "vscode": {
     "languageId": "r"
    }
   },
   "outputs": [],
   "source": [
    "#ABA_g7g8 vs Mock_g7g8\n",
    "\n",
    "col_ordering = c(10:12,4:6)\n",
    "rnaseqMatrix = data[,col_ordering]\n",
    "head(rnaseqMatrix)\n",
    "nrow(rnaseqMatrix)\n",
    "#rnaseqMatrix = round(rnaseqMatrix)\n",
    "rnaseqMatrix = rnaseqMatrix[rowSums(cpm(rnaseqMatrix) > 1) >= 2,] #过滤掉低丰度的基因\n",
    "nrow(rnaseqMatrix)\n",
    "#head(rnaseqMatrix)\n",
    "conditions = data.frame(conditions=factor(c(rep(\"Mock_g7g8\", 3), rep(\"ABA_g7g8\", 3))))\n",
    "rownames(conditions) = colnames(rnaseqMatrix)\n",
    "conditions\n",
    "ddsFullCountTable <- DESeqDataSetFromMatrix(\n",
    "    countData = rnaseqMatrix,\n",
    "    colData = conditions,\n",
    "    design = ~ conditions)\n",
    "dds = DESeq(ddsFullCountTable)\n",
    "contrast=c(\"conditions\",\"ABA_g7g8\",\"Mock_g7g8\")\n",
    "res = results(dds, contrast)\n",
    "baseMeanA <- rowMeans(counts(dds, normalized=TRUE)[,colData(dds)$conditions == \"ABA_g7g8\"])\n",
    "baseMeanB <- rowMeans(counts(dds, normalized=TRUE)[,colData(dds)$conditions == \"Mock_g7g8\"])\n",
    "res = cbind(baseMeanA, baseMeanB, as.data.frame(res))\n",
    "res = cbind(sampleA=\"ABA_g7g8\", sampleB=\"Mock_g7g8\", as.data.frame(res))\n",
    "res$padj[is.na(res$padj)]  <- 1\n",
    "res = as.data.frame(res[order(res$pvalue),])\n",
    "head(res)\n",
    "write.table(res, file='data//RNAseq_CDS.featurecount1.txt.ABA_g7g8_vs_Mock_g7g8.DESeq2.DE_results.txt', sep='\t', quote=FALSE)"
   ]
  },
  {
   "cell_type": "code",
   "execution_count": null,
   "metadata": {
    "vscode": {
     "languageId": "r"
    }
   },
   "outputs": [],
   "source": [
    "#Mock_g7g8 vs Mock_Col\n",
    "\n",
    "col_ordering = c(7:12)\n",
    "rnaseqMatrix = data[,col_ordering]\n",
    "head(rnaseqMatrix)\n",
    "nrow(rnaseqMatrix)\n",
    "#rnaseqMatrix = round(rnaseqMatrix)\n",
    "rnaseqMatrix = rnaseqMatrix[rowSums(cpm(rnaseqMatrix) > 1) >= 2,] #过滤掉低丰度的基因\n",
    "nrow(rnaseqMatrix)\n",
    "#head(rnaseqMatrix)\n",
    "conditions = data.frame(conditions=factor(c(rep(\"Mock_Col\", 3), rep(\"Mock_g7g8\", 3))))\n",
    "rownames(conditions) = colnames(rnaseqMatrix)\n",
    "conditions\n",
    "ddsFullCountTable <- DESeqDataSetFromMatrix(\n",
    "    countData = rnaseqMatrix,\n",
    "    colData = conditions,\n",
    "    design = ~ conditions)\n",
    "dds = DESeq(ddsFullCountTable)\n",
    "contrast=c(\"conditions\",\"Mock_g7g8\",\"Mock_Col\")\n",
    "res = results(dds, contrast)\n",
    "baseMeanA <- rowMeans(counts(dds, normalized=TRUE)[,colData(dds)$conditions == \"Mock_g7g8\"])\n",
    "baseMeanB <- rowMeans(counts(dds, normalized=TRUE)[,colData(dds)$conditions == \"Mock_Col\"])\n",
    "res = cbind(baseMeanA, baseMeanB, as.data.frame(res))\n",
    "res = cbind(sampleA=\"Mock_g7g8\", sampleB=\"Mock_Col\", as.data.frame(res))\n",
    "res$padj[is.na(res$padj)]  <- 1\n",
    "res = as.data.frame(res[order(res$pvalue),])\n",
    "head(res)\n",
    "write.table(res, file='data//RNAseq_CDS.featurecount1.txt.Mock_g7g8_vs_Mock_Col.DESeq2.DE_results.txt', sep='\t', quote=FALSE)"
   ]
  },
  {
   "cell_type": "code",
   "execution_count": null,
   "metadata": {
    "vscode": {
     "languageId": "r"
    }
   },
   "outputs": [],
   "source": [
    "#ABA_g7g8 vs ABA_Col\n",
    "\n",
    "col_ordering = c(1:6)\n",
    "rnaseqMatrix = data[,col_ordering]\n",
    "head(rnaseqMatrix)\n",
    "nrow(rnaseqMatrix)\n",
    "#rnaseqMatrix = round(rnaseqMatrix)\n",
    "rnaseqMatrix = rnaseqMatrix[rowSums(cpm(rnaseqMatrix) > 1) >= 2,] #过滤掉低丰度的基因\n",
    "nrow(rnaseqMatrix)\n",
    "#head(rnaseqMatrix)\n",
    "conditions = data.frame(conditions=factor(c(rep(\"ABA_Col\", 3), rep(\"ABA_g7g8\", 3))))\n",
    "rownames(conditions) = colnames(rnaseqMatrix)\n",
    "conditions\n",
    "ddsFullCountTable <- DESeqDataSetFromMatrix(\n",
    "    countData = rnaseqMatrix,\n",
    "    colData = conditions,\n",
    "    design = ~ conditions)\n",
    "dds = DESeq(ddsFullCountTable)\n",
    "contrast=c(\"conditions\",\"ABA_g7g8\",\"ABA_Col\")\n",
    "res = results(dds, contrast)\n",
    "baseMeanA <- rowMeans(counts(dds, normalized=TRUE)[,colData(dds)$conditions == \"ABA_g7g8\"])\n",
    "baseMeanB <- rowMeans(counts(dds, normalized=TRUE)[,colData(dds)$conditions == \"ABA_Col\"])\n",
    "res = cbind(baseMeanA, baseMeanB, as.data.frame(res))\n",
    "res = cbind(sampleA=\"ABA_g7g8\", sampleB=\"ABA_Col\", as.data.frame(res))\n",
    "res$padj[is.na(res$padj)]  <- 1\n",
    "res = as.data.frame(res[order(res$pvalue),])\n",
    "head(res)\n",
    "write.table(res, file='data//RNAseq_CDS.featurecount1.txt.ABA_g7g8_vs_ABA_Col.DESeq2.DE_results.txt', sep='\t', quote=FALSE)\n"
   ]
  }
 ],
 "metadata": {
  "kernelspec": {
   "display_name": "R",
   "language": "R",
   "name": "ir"
  },
  "language_info": {
   "codemirror_mode": "r",
   "file_extension": ".r",
   "mimetype": "text/x-r-source",
   "name": "R",
   "pygments_lexer": "r",
   "version": "4.3.3"
  }
 },
 "nbformat": 4,
 "nbformat_minor": 2
}
